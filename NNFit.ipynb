{
 "cells": [
  {
   "cell_type": "code",
   "execution_count": 1,
   "metadata": {},
   "outputs": [
    {
     "data": {
      "text/plain": [
       "'/System/Volumes/Data/srv/zatserkl/work/JupyterWork/NNFit'"
      ]
     },
     "execution_count": 1,
     "metadata": {},
     "output_type": "execute_result"
    }
   ],
   "source": [
    "pwd"
   ]
  },
  {
   "cell_type": "code",
   "execution_count": 35,
   "metadata": {},
   "outputs": [
    {
     "name": "stdout",
     "output_type": "stream",
     "text": [
      "x.shape: (1, 21)\n",
      "y.shape: (1, 21)\n",
      "e.shape: (1, 21)\n"
     ]
    },
    {
     "data": {
      "image/png": "[encoded data removed]",
      "text/plain": [
       "<Figure size 432x288 with 1 Axes>"
      ]
     },
     "metadata": {
      "needs_background": "light"
     },
     "output_type": "display_data"
    }
   ],
   "source": [
    "%matplotlib inline\n",
    "\n",
    "import numpy as np\n",
    "import matplotlib.pyplot as plt\n",
    "\n",
    "x = np.linspace(-1, 5, 20+1).reshape(1, -1)\n",
    "print(f'x.shape: {x.shape}')\n",
    "\n",
    "a, b, c = 1, -4, 5\n",
    "\n",
    "y = a*x**2 + b*x + c\n",
    "print(f'y.shape: {y.shape}')\n",
    "\n",
    "# errors\n",
    "\n",
    "np.random.seed(1)\n",
    "\n",
    "mu = 0\n",
    "sigma = 0.5\n",
    "\n",
    "# e = np.random.normal(mu, sigma, x.shape[1])\n",
    "e = mu + sigma * np.random.randn(*x.shape)  # better(?)\n",
    "print(f'e.shape: {e.shape}')\n",
    "\n",
    "y = y + e\n",
    "\n",
    "plt.figure()\n",
    "plt.plot(x[0], y[0], '.')\n",
    "plt.grid()"
   ]
  },
  {
   "cell_type": "code",
   "execution_count": 30,
   "metadata": {},
   "outputs": [
    {
     "name": "stdout",
     "output_type": "stream",
     "text": [
      "e.shape: (1, 21)\n"
     ]
    },
    {
     "data": {
      "image/png": "[encoded data removed]",
      "text/plain": [
       "<Figure size 432x288 with 1 Axes>"
      ]
     },
     "metadata": {
      "needs_background": "light"
     },
     "output_type": "display_data"
    }
   ],
   "source": [
    "np.random.seed(1)\n",
    "\n",
    "mu = 0\n",
    "sigma = 0.5\n",
    "\n",
    "# e = mu + sigma * np.random.randn(1, x.shape[1])\n",
    "e = mu + sigma * np.random.randn(*x.shape)\n",
    "print(f'e.shape: {e.shape}')\n",
    "\n",
    "plt.figure()\n",
    "plt.plot(e[0], '.')\n",
    "plt.grid()\n"
   ]
  },
  {
   "cell_type": "code",
   "execution_count": 34,
   "metadata": {},
   "outputs": [
    {
     "name": "stdout",
     "output_type": "stream",
     "text": [
      "[ 1.62434536 -0.61175641 -0.52817175 -1.07296862  0.86540763]\n",
      "[ 1.62434536 -0.61175641 -0.52817175 -1.07296862  0.86540763]\n"
     ]
    }
   ],
   "source": [
    "np.random.seed(1)\n",
    "print(np.random.normal(0, 1, 5))\n",
    "np.random.seed(1)\n",
    "print(np.random.randn(5))"
   ]
  },
  {
   "cell_type": "code",
   "execution_count": null,
   "metadata": {},
   "outputs": [],
   "source": [
    "import numpy as np\n",
    "import matplotlib.pyplot as plt\n",
    "    \n",
    "def load_parabola_dataset():\n",
    "    x = np.linspace(-1, 5, 20+1).reshape(1, -1)\n",
    "    print(f'x.shape: {x.shape}')\n",
    "\n",
    "    a, b, c = 1, -4, 5\n",
    "\n",
    "    y = a*x**2 + b*x + c\n",
    "    print(f'y.shape: {y.shape}')\n",
    "\n",
    "    # errors\n",
    "\n",
    "    np.random.seed(1)\n",
    "\n",
    "    mu = 0\n",
    "    sigma = 0.5\n",
    "\n",
    "    # e = np.random.normal(mu, sigma, x.shape[1])\n",
    "    e = mu + sigma * np.random.randn(*x.shape)  # better(?)\n",
    "    print(f'e.shape: {e.shape}')\n",
    "\n",
    "    y = y + e\n",
    "\n",
    "    return x, y"
   ]
  },
  {
   "attachments": {},
   "cell_type": "markdown",
   "metadata": {},
   "source": [
    "# Line dataset"
   ]
  },
  {
   "cell_type": "code",
   "execution_count": 1,
   "metadata": {},
   "outputs": [
    {
     "name": "stdout",
     "output_type": "stream",
     "text": [
      "X.shape: (1, 21), Y.shape: (1, 21)\n"
     ]
    },
    {
     "data": {
      "image/png": "[encoded data removed]",
      "text/plain": [
       "<Figure size 432x288 with 1 Axes>"
      ]
     },
     "metadata": {
      "needs_background": "light"
     },
     "output_type": "display_data"
    }
   ],
   "source": [
    "import numpy as np\n",
    "import matplotlib.pyplot as plt\n",
    "    \n",
    "def load_line_dataset():\n",
    "    x = np.linspace(-1, 5, 20+1).reshape(1, -1)\n",
    "    # print(f'x.shape: {x.shape}')\n",
    "\n",
    "    a, b = 2, 1\n",
    "\n",
    "    y = a*x + b\n",
    "    # print(f'y.shape: {y.shape}')\n",
    "\n",
    "    # errors\n",
    "\n",
    "    np.random.seed(1)\n",
    "\n",
    "    mu = 0\n",
    "    sigma = 0.5\n",
    "\n",
    "    # e = np.random.normal(mu, sigma, x.shape[1])\n",
    "    e = mu + sigma * np.random.randn(*x.shape)  # better(?)\n",
    "    # print(f'e.shape: {e.shape}')\n",
    "\n",
    "    y = y + e\n",
    "\n",
    "    return x, y\n",
    "\n",
    "X, Y = load_line_dataset()\n",
    "print(f'X.shape: {X.shape}, Y.shape: {Y.shape}')\n",
    "\n",
    "plt.figure()\n",
    "plt.plot(X[0], Y[0], '.')\n",
    "plt.grid()"
   ]
  },
  {
   "cell_type": "code",
   "execution_count": 2,
   "metadata": {},
   "outputs": [
    {
     "name": "stdout",
     "output_type": "stream",
     "text": [
      "(1, 1, 1)\n"
     ]
    }
   ],
   "source": [
    "def layer_sizes(X, Y):\n",
    "    # AZ: I am not sure I really need this funciton\n",
    "    \"\"\"\n",
    "    Arguments:\n",
    "    X -- input dataset of shape (input size, number of examples)\n",
    "    Y -- labels of shape (output size, number of examples)\n",
    "    \n",
    "    Returns:\n",
    "    n_x -- the size of the input layer\n",
    "    n_h -- the size of the hidden layer\n",
    "    n_y -- the size of the output layer\n",
    "    \"\"\"\n",
    "    ### START CODE HERE ### (≈ 3 lines of code)\n",
    "    n_x = X.shape[0] # size of input layer\n",
    "    ### n_h = 0  # ---------------------------------> hardcoded for no-hidden layer example\n",
    "    n_h = 1  # ---------------------------------> hardcoded for no-hidden layer example\n",
    "    n_y = Y.shape[0] # size of output layer ----> this is not m\n",
    "    ### END CODE HERE ###\n",
    "\n",
    "    return (n_x, n_h, n_y)\n",
    "\n",
    "print(layer_sizes(X, Y))"
   ]
  },
  {
   "cell_type": "code",
   "execution_count": 3,
   "metadata": {},
   "outputs": [],
   "source": [
    "def initialize_parameters(n_x, n_h, n_y):\n",
    "    \"\"\"\n",
    "    Argument:\n",
    "    n_x -- size of the input layer\n",
    "    n_h -- size of the hidden layer\n",
    "    n_y -- size of the output layer\n",
    "    \n",
    "    Returns:\n",
    "    params -- python dictionary containing your parameters:\n",
    "                    W1 -- weight matrix of shape (n_h, n_x)\n",
    "                    b1 -- bias vector of shape (n_h, 1)\n",
    "                    W2 -- weight matrix of shape (n_y, n_h)\n",
    "                    b2 -- bias vector of shape (n_y, 1)\n",
    "    \"\"\"\n",
    "    \n",
    "    np.random.seed(2) # we set up a seed so that your output matches ours although the initialization is random.\n",
    "    \n",
    "    ### START CODE HERE ### (≈ 4 lines of code)\n",
    "    W1 = np.random.randn(n_h, n_x) * 0.01  # for our net this is just one number\n",
    "    b1 = np.zeros((n_h, 1))\n",
    "    # W2 = np.random.randn(n_y, n_h) * 0.01\n",
    "    W2 = np.ones((n_y, n_h))\n",
    "    b2 = np.zeros((n_y, 1))\n",
    "    ### END CODE HERE ###\n",
    "    \n",
    "    assert (W1.shape == (n_h, n_x))\n",
    "    assert (b1.shape == (n_h, 1))\n",
    "    assert (W2.shape == (n_y, n_h))\n",
    "    assert (b2.shape == (n_y, 1))\n",
    "\n",
    "    print(f'initialize_parameters: W1: {W1}, b1: {b1}, W2: {W2}, b2: {b2}')\n",
    "    \n",
    "    parameters = {\"W1\": W1,\n",
    "                  \"b1\": b1,\n",
    "                  \"W2\": W2,\n",
    "                  \"b2\": b2\n",
    "                  }\n",
    "    \n",
    "    return parameters"
   ]
  },
  {
   "cell_type": "code",
   "execution_count": 4,
   "metadata": {},
   "outputs": [
    {
     "name": "stdout",
     "output_type": "stream",
     "text": [
      "w1:\n",
      "[[0.01144724]]\n",
      "b1:[[0.]]\n"
     ]
    }
   ],
   "source": [
    "w1 = np.random.randn(1, 1) * 0.01\n",
    "b1 = np.zeros((1, 1))\n",
    "print(f'w1:\\n{w1}\\nb1:{b1}')\n"
   ]
  },
  {
   "cell_type": "code",
   "execution_count": 17,
   "metadata": {},
   "outputs": [],
   "source": [
    "def forward_propagation(X, parameters):\n",
    "    \"\"\"\n",
    "    Argument:\n",
    "    X -- input data of size (n_x, m)\n",
    "    parameters -- python dictionary containing your parameters (output of initialization function)\n",
    "    \n",
    "    Returns:\n",
    "    # A2 -- The sigmoid output of the second activation\n",
    "    # cache -- a dictionary containing \"Z1\", \"A1\", \"Z2\" and \"A2\"\n",
    "    A1 -- The sigmoid output of the second activation\n",
    "    cache -- a dictionary containing \"Z1\", \"A1\"\n",
    "    \"\"\"\n",
    "    # Retrieve each parameter from the dictionary \"parameters\"\n",
    "    ### START CODE HERE ### (≈ 4 lines of code)\n",
    "    W1 = parameters['W1']\n",
    "    b1 = parameters['b1']\n",
    "    W2 = parameters['W2']\n",
    "    b2 = parameters['b2']\n",
    "    ### END CODE HERE ###\n",
    "\n",
    "    # print(f'forward_proparation: W1: {W1}, b1: {b1}, W2: {W2}, b2: {b2}')\n",
    "    \n",
    "    # Implement Forward Propagation to calculate A2 (probabilities)\n",
    "    ### START CODE HERE ### (≈ 4 lines of code)\n",
    "    Z1 = np.dot(W1, X) + b1\n",
    "    # print(f'forward_propagation: W1.shape: {W1.shape}, b1.shape: {b1.shape}, X.shape: {X.shape}, Z1.shape: {Z1.shape}')\n",
    "    ### A1 = np.tanh(Z1)\n",
    "    A1 = Z1  # AZ: identity activation function in our case\n",
    "    Z2 = np.dot(W2, A1) + b2\n",
    "    # A2 = sigmoid(Z2)\n",
    "    A2 = Z2\n",
    "    ### END CODE HERE ###\n",
    "    \n",
    "    # print(f'    forward_propagation: A1: {A1}')\n",
    "    assert(A2.shape == (1, X.shape[1]))\n",
    "    \n",
    "    cache = {\"Z1\": Z1,\n",
    "             \"A1\": A1,\n",
    "             \"Z2\": Z2,\n",
    "             \"A2\": A2\n",
    "             }\n",
    "    \n",
    "    return A1, cache"
   ]
  },
  {
   "cell_type": "code",
   "execution_count": 18,
   "metadata": {},
   "outputs": [],
   "source": [
    "def compute_cost(A2, Y, parameters):\n",
    "    \"\"\"\n",
    "    Computes the cross-entropy cost given in equation (13)\n",
    "    \n",
    "    Arguments:\n",
    "    A2 -- The sigmoid output of the second activation, of shape (1, number of examples)\n",
    "    Y -- \"true\" labels vector of shape (1, number of examples)\n",
    "    parameters -- python dictionary containing your parameters W1, b1, W2 and b2\n",
    "    [Note that the parameters argument is not used in this function, \n",
    "    but the auto-grader currently expects this parameter.\n",
    "    Future version of this notebook will fix both the notebook \n",
    "    and the auto-grader so that `parameters` is not needed.\n",
    "    For now, please include `parameters` in the function signature,\n",
    "    and also when invoking this function.]\n",
    "    \n",
    "    Returns:\n",
    "    cost -- cross-entropy cost given equation (13) -- In case of our fit it's average sum of squares\n",
    "    \n",
    "    \"\"\"\n",
    "    \n",
    "    m = Y.shape[1] # number of example\n",
    "\n",
    "    # Compute the cross-entropy cost\n",
    "    ### ### START CODE HERE ### (≈ 2 lines of code)\n",
    "    ### logprobs = -1/m * (np.dot(Y, np.log(A2).T) + np.dot(1 - Y, np.log(1 - A2).T))\n",
    "    ### cost = np.squeeze(logprobs)\n",
    "    ### ### END CODE HERE ###\n",
    "\n",
    "    cost = 1/m * np.sum((A2 - Y)**2)\n",
    "    \n",
    "    cost = float(np.squeeze(cost))  # makes sure cost is the dimension we expect. \n",
    "                                    # E.g., turns [[17]] into 17 \n",
    "    assert(isinstance(cost, float))\n",
    "    \n",
    "    return cost"
   ]
  },
  {
   "cell_type": "code",
   "execution_count": 19,
   "metadata": {},
   "outputs": [],
   "source": [
    "def backward_propagation(parameters, cache, X, Y):\n",
    "    \"\"\"\n",
    "    Implement the backward propagation using the instructions above.\n",
    "    \n",
    "    Arguments:\n",
    "    parameters -- python dictionary containing our parameters\n",
    "    cache -- a dictionary containing \"Z1\", \"A1\", \"Z2\" and \"A2\".\n",
    "    X -- input data of shape (2, number of examples)\n",
    "    Y -- \"true\" labels vector of shape (1, number of examples)\n",
    "    \n",
    "    Returns:\n",
    "    grads -- python dictionary containing your gradients with respect to different parameters\n",
    "    \"\"\"\n",
    "    m = X.shape[1]\n",
    "    \n",
    "    # print(f'X.shape: {X.shape}')\n",
    "    # print(f'Y.shape: {Y.shape}')\n",
    "    \n",
    "    # First, retrieve W1 and W2 from the dictionary \"parameters\".\n",
    "    ### START CODE HERE ### (≈ 2 lines of code)\n",
    "    W1 = parameters['W1']\n",
    "    W2 = parameters['W2']\n",
    "    ### END CODE HERE ###\n",
    "    # print(f'W1:\\n{W1}')\n",
    "    # print(f'W2:\\n{W2}')\n",
    "        \n",
    "    # Retrieve also A1 and A2 from dictionary \"cache\".\n",
    "    ### START CODE HERE ### (≈ 2 lines of code)\n",
    "    A1 = cache['A1']\n",
    "    A2 = cache['A2']\n",
    "    ### END CODE HERE ###\n",
    "    # print(f'A1:\\n{A1}')\n",
    "    # print(f'A2:\\n{A2}')\n",
    "    \n",
    "    # # Backward propagation: calculate dW1, db1, dW2, db2. \n",
    "    # ### START CODE HERE ### (≈ 6 lines of code, corresponding to 6 equations on slide above)\n",
    "    # dZ2 = A2 - Y\n",
    "    # # print(f'dZ2.shape: {dZ2.shape}')\n",
    "    # dW2 = 1/m * np.dot(dZ2, A1.T)\n",
    "    # # print(f'dW2.shape: {dW2.shape}')\n",
    "    # db2 = 1/m * np.sum(dZ2, axis=1, keepdims=True)\n",
    "    # # print(f'db2.shape: {db2.shape}')\n",
    "    # # print(f'(dZ2*(1 - A1*A1)).shape: {(dZ2*(1 - A1*A1)).shape}')\n",
    "    # dZ1 = np.dot(W2.T, dZ2) * (1 - A1*A1)  # NB: np.dot(W2.T, dZ2): (4, 1)*(1, 3)\n",
    "    # # print(f'dZ1.shape: {dZ1.shape}')\n",
    "    # dW1 = 1/m * np.dot(dZ1, X.T)\n",
    "    # # print(f'dW1.shape: {dW1.shape}')\n",
    "    # db1 = 1/m * np.sum(dZ1, axis=1, keepdims=True)\n",
    "    # # print(f'db1.shape: {db1.shape}')\n",
    "    # ### END CODE HERE ###\n",
    "\n",
    "    dA2 = 2 * (A2 - Y) / m\n",
    "    dZ2 = dA2\n",
    "    dW2 = np.zeros(W2.shape)\n",
    "    db2 = np.zeros((1, 1))\n",
    "\n",
    "    dZ1 = dZ2\n",
    "    # dW1 = 1/m * np.sum(np.dot(dZ1, X.T))\n",
    "    dW1 = 1/m * np.dot(dA2, X.T)\n",
    "    # db1 = 1/m * np.sum(dZ1, axis=1, keepdims=True)\n",
    "    db1 = 1/m * np.sum(dZ1)  # ???\n",
    "\n",
    "    # print(f'backward_propagation: dA2.shape: {dA2.shape}')\n",
    "    # print(f'backward_propagation: dZ1.shape: {dZ1.shape}')\n",
    "    # print(f'backward_propagation: dW1.shape: {dW1.shape}')\n",
    "    \n",
    "    grads = {\"dW1\": dW1,\n",
    "             \"db1\": db1,\n",
    "             \"dW2\": dW2,\n",
    "             \"db2\": db2\n",
    "             }\n",
    "    \n",
    "    return grads"
   ]
  },
  {
   "cell_type": "code",
   "execution_count": 20,
   "metadata": {},
   "outputs": [
    {
     "name": "stdout",
     "output_type": "stream",
     "text": [
      "v:\n",
      "[[1]\n",
      " [2]\n",
      " [3]]\n",
      "np.dot(v.T, v): [[14]]\n",
      "np.sum(np.dot(v.T, v)): 14\n"
     ]
    }
   ],
   "source": [
    "v = np.array([1, 2, 3]).reshape(-1, 1)\n",
    "print(f'v:\\n{v}')\n",
    "print(f'np.dot(v.T, v): {np.dot(v.T, v)}')\n",
    "print(f'np.sum(np.dot(v.T, v)): {np.sum(np.dot(v.T, v))}')"
   ]
  },
  {
   "cell_type": "code",
   "execution_count": 22,
   "metadata": {},
   "outputs": [],
   "source": [
    "def update_parameters(parameters, grads, learning_rate = 1.2):\n",
    "    \"\"\"\n",
    "    Updates parameters using the gradient descent update rule given above\n",
    "    \n",
    "    Arguments:\n",
    "    parameters -- python dictionary containing your parameters \n",
    "    grads -- python dictionary containing your gradients \n",
    "    \n",
    "    Returns:\n",
    "    parameters -- python dictionary containing your updated parameters \n",
    "    \"\"\"\n",
    "    # Retrieve each parameter from the dictionary \"parameters\"\n",
    "    ### START CODE HERE ### (≈ 4 lines of code)\n",
    "    W1 = parameters['W1']\n",
    "    b1 = parameters['b1']\n",
    "    W2 = parameters['W2']\n",
    "    b2 = parameters['b2']\n",
    "    ### END CODE HERE ###\n",
    "    \n",
    "    # Retrieve each gradient from the dictionary \"grads\"\n",
    "    ### START CODE HERE ### (≈ 4 lines of code)\n",
    "    dW1 = grads['dW1']\n",
    "    db1 = grads['db1']\n",
    "    dW2 = grads['dW2']\n",
    "    db2 = grads['db2']\n",
    "    ## END CODE HERE ###\n",
    "\n",
    "    # print(f'.. update_parameters: parameters:\\n{parameters}')\n",
    "    # print(f'.. update_parameters: grads:\\n{grads}')\n",
    "    \n",
    "    # Update rule for each parameter\n",
    "    ### START CODE HERE ### (≈ 4 lines of code)\n",
    "    W1 = W1 - learning_rate * dW1\n",
    "    b1 = b1 - learning_rate * db1\n",
    "    W2 = W2 - learning_rate * dW2\n",
    "    b2 = b2 - learning_rate * db2\n",
    "    ### END CODE HERE ###\n",
    "    \n",
    "    parameters = {\"W1\": W1,\n",
    "                  \"b1\": b1,\n",
    "                  \"W2\": W2,\n",
    "                  \"b2\": b2\n",
    "                  }\n",
    "    \n",
    "    return parameters"
   ]
  },
  {
   "cell_type": "code",
   "execution_count": 31,
   "metadata": {},
   "outputs": [],
   "source": [
    "def nn_model(X, Y, n_h, num_iterations = 10000, print_cost=False):\n",
    "    \"\"\"\n",
    "    Arguments:\n",
    "    X -- dataset of shape (2, number of examples)\n",
    "    Y -- labels of shape (1, number of examples)\n",
    "    n_h -- size of the hidden layer\n",
    "    num_iterations -- Number of iterations in gradient descent loop\n",
    "    print_cost -- if True, print the cost every 1000 iterations\n",
    "    \n",
    "    Returns:\n",
    "    parameters -- parameters learnt by the model. They can then be used to predict.\n",
    "    \"\"\"\n",
    "    \n",
    "    np.random.seed(3)\n",
    "    n_x = layer_sizes(X, Y)[0]\n",
    "    n_y = layer_sizes(X, Y)[2]\n",
    "    \n",
    "    # Initialize parameters\n",
    "    ### START CODE HERE ### (≈ 1 line of code)\n",
    "    parameters = initialize_parameters(n_x, n_h, n_y)\n",
    "\n",
    "    # print(f'parameters:\\n{parameters}')\n",
    "    ### END CODE HERE ###\n",
    "    \n",
    "    # Loop (gradient descent)\n",
    "\n",
    "    cost_array = []\n",
    "\n",
    "    for i in range(0, num_iterations):\n",
    "         \n",
    "        ### START CODE HERE ### (≈ 4 lines of code)\n",
    "        # Forward propagation. Inputs: \"X, parameters\". Outputs: \"A2, cache\".\n",
    "        A2, cache = forward_propagation(X, parameters)\n",
    "        # print(f'  A2: {A2}')\n",
    "        \n",
    "        # Cost function. Inputs: \"A2, Y, parameters\". Outputs: \"cost\".\n",
    "        cost = compute_cost(A2, Y, parameters)\n",
    "\n",
    "        cost_array.append(cost)\n",
    " \n",
    "        # Backpropagation. Inputs: \"parameters, cache, X, Y\". Outputs: \"grads\".\n",
    "        grads = backward_propagation(parameters, cache, X, Y)\n",
    " \n",
    "        # Gradient descent parameter update. Inputs: \"parameters, grads\". Outputs: \"parameters\".\n",
    "        # print(f'-- before update_parameters:\\n{parameters}')\n",
    "        parameters = update_parameters(parameters, grads, learning_rate = 1.2)\n",
    "        # print(f'-- after update_parameters:\\n{parameters}')\n",
    "        \n",
    "        ### END CODE HERE ###\n",
    "        \n",
    "        # Print the cost every 1000 iterations\n",
    "        if print_cost and i % 2 == 0:\n",
    "            print (\"Cost after iteration %i: %f\" %(i, cost))\n",
    "\n",
    "    plt.figure()\n",
    "    plt.plot(cost_array, '.')\n",
    "    plt.yscale('log')\n",
    "    plt.grid()\n",
    "\n",
    "    return parameters"
   ]
  },
  {
   "cell_type": "code",
   "execution_count": 32,
   "metadata": {},
   "outputs": [
    {
     "name": "stdout",
     "output_type": "stream",
     "text": [
      "initialize_parameters: W1: [[-0.00416758]], b1: [[0.]], W2: [[1.]], b2: [[0.]]\n",
      "Cost after iteration 0: 37.311480\n",
      "Cost after iteration 2: 0.350192\n",
      "Cost after iteration 4: 0.337417\n",
      "Cost after iteration 6: 0.329867\n",
      "Cost after iteration 8: 0.323663\n",
      "\n",
      "parameters[\"W1\"]:\n",
      "[[2.03327511]]\n",
      "parameters[\"b1\"]: [[0.7484184]]\n"
     ]
    },
    {
     "data": {
      "image/png": "[encoded data removed]",
      "text/plain": [
       "<Figure size 432x288 with 1 Axes>"
      ]
     },
     "metadata": {
      "needs_background": "light"
     },
     "output_type": "display_data"
    }
   ],
   "source": [
    "X, Y = load_line_dataset()\n",
    "\n",
    "# Build a model with a n_h-dimensional hidden layer\n",
    "num_iterations = 10\n",
    "parameters = nn_model(X, Y, n_h=1, num_iterations=num_iterations, print_cost=True)\n",
    "\n",
    "print(f'\\nparameters[\"W1\"]:\\n{parameters[\"W1\"]}\\nparameters[\"b1\"]: {parameters[\"b1\"]}')"
   ]
  },
  {
   "attachments": {},
   "cell_type": "markdown",
   "metadata": {},
   "source": [
    "# Create a class"
   ]
  },
  {
   "cell_type": "code",
   "execution_count": null,
   "metadata": {},
   "outputs": [],
   "source": [
    "class NNFit:\n",
    "    def __init__(self, n_h):\n",
    "        self.n_h = n_h\n",
    "    \n"
   ]
  }
 ],
 "metadata": {
  "kernelspec": {
   "display_name": "pymc3_env",
   "language": "python",
   "name": "python3"
  },
  "language_info": {
   "codemirror_mode": {
    "name": "ipython",
    "version": 3
   },
   "file_extension": ".py",
   "mimetype": "text/x-python",
   "name": "python",
   "nbconvert_exporter": "python",
   "pygments_lexer": "ipython3",
   "version": "3.9.9"
  },
  "orig_nbformat": 4,
  "vscode": {
   "interpreter": {
    "hash": "3ad300171fa04c4e0845ede723e23110345d162a93b73b5ef03008a373df18d7"
   }
  }
 },
 "nbformat": 4,
 "nbformat_minor": 2
}
